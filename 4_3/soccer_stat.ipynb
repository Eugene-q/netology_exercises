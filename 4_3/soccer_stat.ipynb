{
 "cells": [
  {
   "cell_type": "code",
   "execution_count": 2,
   "metadata": {
    "collapsed": true
   },
   "outputs": [],
   "source": [
    "import requests\n",
    "\n",
    "import pandas as pd\n",
    "import numpy as np\n",
    "import matplotlib.pyplot as plt\n",
    "\n",
    "%matplotlib inline\n",
    "\n",
    "from scipy.cluster.vq import whiten, kmeans2"
   ]
  },
  {
   "cell_type": "code",
   "execution_count": 5,
   "metadata": {
    "collapsed": true
   },
   "outputs": [],
   "source": [
    "def call_api(uri, result_key):\n",
    "    json = {}\n",
    "    try:\n",
    "        json = requests.get(uri, headers = { 'X-Auth-Token': 'c52b7825851b4357af3e06c1888152f0' }).json()\n",
    "        return json[result_key]\n",
    "    except:\n",
    "        print(json)\n",
    "        return None"
   ]
  },
  {
   "cell_type": "code",
   "execution_count": 6,
   "metadata": {},
   "outputs": [],
   "source": [
    "teams = call_api('http://api.football-data.org/v1/soccerseasons/439/teams', 'teams')\n",
    "teams.extend(call_api('http://api.football-data.org/v1/soccerseasons/440/teams', 'teams'))"
   ]
  },
  {
   "cell_type": "code",
   "execution_count": 7,
   "metadata": {},
   "outputs": [],
   "source": [
    "def is_looser(team, fixture):\n",
    "    scored_goals = 0\n",
    "    missed_goals = 0\n",
    "    \n",
    "    def goals_count(time_part):\n",
    "        result = {}\n",
    "        if team['name'] == fixture['homeTeamName']:\n",
    "            result['scored'] = time_part['goalsHomeTeam'] if time_part['goalsHomeTeam'] else 0\n",
    "            result['missed'] = time_part['goalsAwayTeam'] if time_part['goalsAwayTeam'] else 0\n",
    "        else:\n",
    "            result['scored'] = time_part['goalsAwayTeam'] if time_part['goalsAwayTeam'] else 0\n",
    "            result['missed'] = time_part['goalsHomeTeam'] if time_part['goalsHomeTeam'] else 0\n",
    "        return result\n",
    "    \n",
    "    time_parts = [f['result'], ]\n",
    "    if 'extraTime' in f['result']:\n",
    "        time_parts.append(f['result']['extraTime'])\n",
    "    if 'penaltyShootout' in f['result']:\n",
    "        time_parts.append(f['result']['penaltyShootout'])\n",
    "                          \n",
    "    for time in time_parts:\n",
    "        goals = goals_count(time)\n",
    "        scored_goals += goals['scored']\n",
    "        missed_goals += goals['missed']\n",
    "   \n",
    "    if scored_goals >= missed_goals:\n",
    "        return False\n",
    "    else: return True\n",
    "    \n",
    "    \n",
    "for team in teams:\n",
    "    looses = 0\n",
    "    fixtures = call_api(team['_links']['fixtures']['href'], 'fixtures')\n",
    "    if not fixtures:\n",
    "        continue\n",
    "    for f in fixtures:\n",
    "        looses += is_looser(team, f)\n",
    "#     print('Team \"{}\", {} matches, {} looses'.format(team['name'], len(fixtures), looses))\n",
    "    team['looses'] = looses\n",
    "    team['fixtures'] = fixtures"
   ]
  },
  {
   "cell_type": "code",
   "execution_count": 8,
   "metadata": {},
   "outputs": [],
   "source": [
    "team_for_pd = []\n",
    "for team in teams:\n",
    "    if team['fixtures']:\n",
    "        team_for_pd.append({'name': team['name'], \n",
    "                            'fixtures': len(team['fixtures']), \n",
    "                            'looses': team['looses']\n",
    "                           })"
   ]
  },
  {
   "cell_type": "code",
   "execution_count": 9,
   "metadata": {},
   "outputs": [],
   "source": [
    "teams_pd = pd.DataFrame(team_for_pd)"
   ]
  },
  {
   "cell_type": "code",
   "execution_count": 10,
   "metadata": {},
   "outputs": [],
   "source": [
    "del teams_pd['name']\n",
    "whitened = whiten(teams_pd.as_matrix())"
   ]
  },
  {
   "cell_type": "code",
   "execution_count": 84,
   "metadata": {},
   "outputs": [
    {
     "data": {
      "text/plain": [
       "<matplotlib.axes._subplots.AxesSubplot at 0xb958a58>"
      ]
     },
     "execution_count": 84,
     "metadata": {},
     "output_type": "execute_result"
    },
    {
     "data": {
      "image/png": "[encoded data removed]",
      "text/plain": [
       "<matplotlib.figure.Figure at 0xb922d30>"
      ]
     },
     "metadata": {},
     "output_type": "display_data"
    }
   ],
   "source": [
    "centroids, cluster_map = kmeans2(whitened, 3)\n",
    "colors_map = {0: 'r', 1: 'g', 2: 'b', 3: 'y', 4: 'm'}\n",
    "colors = [colors_map[c] for c in cluster_map]\n",
    "teams_pd.plot.scatter(x='fixtures', y='looses', c=colors, s=100)"
   ]
  },
  {
   "cell_type": "code",
   "execution_count": 87,
   "metadata": {},
   "outputs": [
    {
     "data": {
      "text/plain": [
       "<matplotlib.axes._subplots.AxesSubplot at 0xbc33b00>"
      ]
     },
     "execution_count": 87,
     "metadata": {},
     "output_type": "execute_result"
    },
    {
     "data": {
      "image/png": "[encoded data removed]",
      "text/plain": [
       "<matplotlib.figure.Figure at 0xbc47860>"
      ]
     },
     "metadata": {},
     "output_type": "display_data"
    }
   ],
   "source": [
    "centroids, cluster_map = kmeans2(whitened, 5)\n",
    "colors = [colors_map[c] for c in cluster_map]\n",
    "teams_pd.plot.scatter(x='fixtures', y='looses', c=colors, s=100)"
   ]
  }
 ],
 "metadata": {
  "kernelspec": {
   "display_name": "Python 3",
   "language": "python",
   "name": "python3"
  },
  "language_info": {
   "codemirror_mode": {
    "name": "ipython",
    "version": 3
   },
   "file_extension": ".py",
   "mimetype": "text/x-python",
   "name": "python",
   "nbconvert_exporter": "python",
   "pygments_lexer": "ipython3",
   "version": "3.6.1"
  }
 },
 "nbformat": 4,
 "nbformat_minor": 2
}
