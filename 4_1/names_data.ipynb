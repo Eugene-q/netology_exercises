{
 "cells": [
  {
   "cell_type": "code",
   "execution_count": 1,
   "metadata": {
    "collapsed": true
   },
   "outputs": [],
   "source": [
    "import pandas as pd\n",
    "\n",
    "import numpy as np"
   ]
  },
  {
   "cell_type": "code",
   "execution_count": 10,
   "metadata": {},
   "outputs": [],
   "source": [
    "DATA_PATH = 'c:\\\\Users\\\\Eugene\\\\Documents\\\\Git\\\\netology_exercises\\\\4_1\\\\names\\\\'"
   ]
  },
  {
   "cell_type": "code",
   "execution_count": 141,
   "metadata": {},
   "outputs": [
    {
     "name": "stdout",
     "output_type": "stream",
     "text": [
      "File c:\\Users\\Eugene\\Documents\\Git\\netology_exercises\\4_1\\names\\yob1879.txt not found!\n",
      "          Count\n",
      "Name           \n",
      "Mary     865867\n",
      "John     634777\n",
      "William  531667\n"
     ]
    }
   ],
   "source": [
    "def count_top3(years):\n",
    "    def sum_count(row):\n",
    "        row.Count_all = row.Count_all + row.Count_year\n",
    "        return row\n",
    "    \n",
    "    cols = ['Name','Gender','Count']\n",
    "    all_names = pd.DataFrame({})\n",
    "    for col in cols:\n",
    "        all_names[col] = [1]\n",
    "    for year in years:\n",
    "        try:\n",
    "            year_names = pd.read_csv(DATA_PATH + 'yob' + str(year).strip('[,]') + '.txt', names=cols)\n",
    "        except FileNotFoundError:\n",
    "            print('File {}yob{}.txt not found!'.format(DATA_PATH, str(year).strip('[,]')))\n",
    "            continue\n",
    "        all_names = pd.concat([all_names, year_names], names=['Year'])\n",
    "    all_names = all_names.groupby('Name').sum().sort_values(by='Count', ascending=False)\n",
    "    return all_names.head(3)\n",
    "\n",
    "print(count_top3(range(1879, 1920)))\n",
    "        "
   ]
  },
  {
   "cell_type": "code",
   "execution_count": 142,
   "metadata": {},
   "outputs": [
    {
     "name": "stdout",
     "output_type": "stream",
     "text": [
      "File c:\\Users\\Eugene\\Documents\\Git\\netology_exercises\\4_1\\names\\yob789.txt not found!\n",
      "{'M': [1962744, 1915331], 'F': [1814922, 1774186]}\n"
     ]
    }
   ],
   "source": [
    "def count_dynamics(years):\n",
    "    cols = ['Name','Gender','Count']\n",
    "    response = {\n",
    "        'M': [],\n",
    "        'F': [],\n",
    "    }\n",
    "    for year in years:\n",
    "        try:\n",
    "            year_names = pd.read_csv(DATA_PATH + 'yob' + str(year).strip('[,]') + '.txt', names=cols)\n",
    "        except FileNotFoundError:\n",
    "            print('File {}yob{}.txt not found!'.format(DATA_PATH, str(year).strip('[,]')))\n",
    "            continue\n",
    "        year_names = year_names.groupby('Gender').sum()\n",
    "        response['F'].append(year_names['Count'][0])\n",
    "        response['M'].append(year_names['Count'][1])\n",
    "    return response\n",
    "\n",
    "print(count_dynamics([2000, 2010, 789]))"
   ]
  },
  {
   "cell_type": "code",
   "execution_count": null,
   "metadata": {
    "collapsed": true
   },
   "outputs": [],
   "source": []
  }
 ],
 "metadata": {
  "kernelspec": {
   "display_name": "Python 3",
   "language": "python",
   "name": "python3"
  },
  "language_info": {
   "codemirror_mode": {
    "name": "ipython",
    "version": 3
   },
   "file_extension": ".py",
   "mimetype": "text/x-python",
   "name": "python",
   "nbconvert_exporter": "python",
   "pygments_lexer": "ipython3",
   "version": "3.6.1"
  }
 },
 "nbformat": 4,
 "nbformat_minor": 2
}
